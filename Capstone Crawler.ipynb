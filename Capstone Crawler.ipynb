{
 "cells": [
  {
   "cell_type": "code",
   "execution_count": 5,
   "id": "fc9ca919",
   "metadata": {},
   "outputs": [],
   "source": [
    "!pip install -q snscrape"
   ]
  },
  {
   "cell_type": "code",
   "execution_count": 2,
   "id": "4267322e",
   "metadata": {},
   "outputs": [],
   "source": [
    "import os\n",
    "import pandas as pd\n",
    "from datetime import date"
   ]
  },
  {
   "cell_type": "code",
   "execution_count": 3,
   "id": "5399cd10",
   "metadata": {},
   "outputs": [
    {
     "name": "stdout",
     "output_type": "stream",
     "text": [
      "2022-03-17\n"
     ]
    }
   ],
   "source": [
    "start_day = date.today()\n",
    "end_date = start_day\n",
    "print(end_date)"
   ]
  },
  {
   "cell_type": "code",
   "execution_count": 4,
   "id": "130c3085",
   "metadata": {},
   "outputs": [],
   "source": [
    "search_term = '#bankofamerica'\n",
    "from_date = '2022-03-03'"
   ]
  },
  {
   "cell_type": "code",
   "execution_count": 5,
   "id": "b8289a89",
   "metadata": {},
   "outputs": [
    {
     "name": "stdout",
     "output_type": "stream",
     "text": [
      "Number of Tweets : 632\n"
     ]
    }
   ],
   "source": [
    "os.system(f\"snscrape --since {from_date} twitter-search '{search_term} until:{end_date}' > result-tweets.txt\")\n",
    "if os.stat(\"result-tweets.txt\").st_size == 0:\n",
    "          counter = 0\n",
    "else: \n",
    "          df = pd.read_csv('result-tweets.txt', names=['link'])\n",
    "          counter = df.size\n",
    "          \n",
    "print('Number of Tweets : ' + str(counter))"
   ]
  },
  {
   "cell_type": "code",
   "execution_count": 8,
   "id": "aae92b3a",
   "metadata": {},
   "outputs": [],
   "source": [
    "max_results = 100"
   ]
  },
  {
   "cell_type": "code",
   "execution_count": 12,
   "id": "c8a54b32",
   "metadata": {
    "tags": []
   },
   "outputs": [
    {
     "name": "stdout",
     "output_type": "stream",
     "text": [
      "(0, \"'Get ready to let your freak flags fly starting on Apr 8! Get tix: https://t.co/MZ8N5u5GU1. \\\\n.\\\\n.\\\\n.\\\\n#ShrektheMusical #TYA #ChildrensTheatre #BankofAmerica #InfusionFund #MusicalTheatre https://t.co/JdUVWdQeBB'\")\n",
      "(1, \"'@BofA_Help Still haven’t heard back from @hollyaoneill’s office or anyone at Bank of America with a resolution. Account is still in shambles. Shame. #BankofAmerica #BofA #Fraud'\")\n",
      "(2, \"'You know we can’t make payments through the new version of the app\")\n",
      "(3, \"'🏦🏧\\\\n#BankOfAmerica'\")\n",
      "(4, \"'@bankofamerica I\\\\'m about thisclose to removing all my accounts from BofA. After being on hold for about 10 minutes\")\n",
      "(5, \"'Had I been gullible enough to fall for it they would have stolen my #ChildSupport on a state issued card via a program with #BankOfAmerica. Yet trying to report it is has been impossible https://t.co/o39PbXuJuJ'\")\n",
      "(6, \"It's easy to see why I was the target of a scam on my @BankofAmerica card. Mine is #State #ChildSupport issued . Friday just as #BankOfAmerica was closing I get this #scamtext. I've tried to call the bank multiple times for 5 days to report it &amp; nobody answers\\\\n#ScamAlert https://t.co/dCEkydT2ho\")\n",
      "(7, \"'Ojo con los que usan la página de *Bank of américa* para hacer zelle. \\\\n\\\\nDesde el día de hoy estan tratando de hacer phishing con anuncios de Google.\\\\n\\\\n#zelle #bofa #bankofamerica #phishing'\")\n",
      "(8, \"'Have you ever received text messages from BofA that instruct you to click on an attached link? Beware: DON’T click on anything. Know more: https://t.co/hM6Mm1TRcd\\\\n\\\\n#ScamAdviserTips #ScamAlert #Phishing #BankOfAmerica #BofA https://t.co/gSamSFCR0g'\")\n",
      "(9, \"It's the #BankofAmerica on West Paces Ferry Rd in Atlanta, GA. The bank teller didn't do her job properly. #RyanCoogler\")\n",
      "(10, \"'I know there are some serious doxxers out here 😂. If you know the names of the Bank of America manager and the specific teller who caused an uproar on #RyanCoogler\")\n",
      "(11, \"'@BofA_Help I would say I would cancel my account at Bank of America but I never opened one.  #bankofamerica  opened it.  #fraud'\")\n",
      "(12, \"'$BAC in Uptrend: RSI indicator exits oversold zone. View odds for this and other indicators: https://t.co/zHPJ9dRD5V #BankofAmerica #stockmarket #stock https://t.co/hU6QBMXzDn'\")\n",
      "(13, \"Read the latest news in the March edition of 'Our Commonwealth'! \\\\nhttps://t.co/NVLLM04MSn #historicpreservation #massachusetts #preservation #bofa #bankofamerica https://t.co/PwHAPH0YKt\")\n",
      "(14, \"Honoring their lifetime achievements, #Spelman is naming a renovated theater, lobby, dressing rooms, etc. the 'LaTanya Richardson Jackson &amp; Samuel L. Jackson Performing Arts Center.' Renovations are supported by Richardson Jackson &amp; Jackson, #BankofAmerica &amp; David Rockefeller Jr. https://t.co/ieBdP9fImB\")\n",
      "(15, \"'#ASELS #bankofamerica \\\\nUlan soytarı 15 gündür 14 milyon lot aldin maliyetin ortada bugunki satışın niye derdin nedir yemezler Hadi ii bakalim bas assagi yerse https://t.co/Lbsb03TOdP'\")\n",
      "(16, \"'Probably need to look at who #bankofamerica is partners with too? I worked in banking in 2018 and around 2019 they had already sit down with all the things at that time. Specifically it was set to be used on a separate banking platform like the defunct simple bank as a trial run https://t.co/z1L7qL2bNw'\")\n",
      "(17, \"'Los inversores están acumulando efectivo\")\n",
      "(18, \"'#BorsaIstanbul\\\\n#arsan\\\\n#bankofamerica maliyeti\\\\n3.86 https://t.co/IZEEXTZ5LJ'\")\n",
      "(19, \"'@SithLord_Wayne @AnonOpsSE @Americanist4u Sounds as #HBGary all over again. Lulz. Do you know what the trigger is said to have been why HBGary (and their friends #Palantir #CIA #Obama #BankOfAmerica #HuntonWilliams ) was pwn so badly by #Anonymous #LulzSec?'\")\n",
      "(20, \"'WHEN PEOPLE HERE IN #america can buy #Bitcoin in any #bank app like #bankofamerica #chase or @WellsFargo #wellsfargo then crypto wel go crazy. For that to happen #joebiden and all of them need regulation like crazy for banks and others to have it like normal. I hope it happens'\")\n",
      "(21, \"'🚨 Esta tarde\")\n",
      "(22, \"'Bank of America https://t.co/Of7pTzlRhP #BankofAmerica'\")\n",
      "(23, \"'#CHASE #bankofamerica #banks #Union #USA https://t.co/QgZiQW5cWr'\")\n",
      "(24, \"'#NYSE stocks Volume Leaders\\\\n#Exxon Mobil ( $XOM) Strong Sell\\\\n#BankofAmerica ( $BAC) Buy\\\\n#Palantir Technologies ( $PLTR) Sell\\\\n#Snap Inc ( $SNAP) Sell\\\\n#ATT ( $T) Buy\\\\n#Uber Technologies ( $UBER) -\\\\n#Transocean Inc ( $RIG) Strong Sell\\\\n#Pfizer Inc ( $PFE) Buy\\\\nhttps://t.co/x9fWQQFyFX'\")\n",
      "(25, \"'#RyanCoogler was previously detained at #bankofamerica back in January for banking while black chile..... \\\\n\\\\nhttps://t.co/2q0jvUr4Ta'\")\n",
      "(26, \"Grrr 😠 if @BankofAmerica don't stop sending me 3-4 email's a day about whatever TF and charging me $20/mo just to hold some of my money something gonna give\\\\n#bankofamerica on that dumb shit always\")\n",
      "(27, \"'$BAC in Uptrend: Stochastic indicator leaves oversold zone. View odds for this and other indicators: https://t.co/azdMRWJx22 #BankofAmerica #stockmarket #stock https://t.co/Kegna3ptSz'\")\n",
      "(28, \"'#bankofamerica be pissing me off with that damn waiting 4 days to process shit i been paid for 🤬😤'\")\n",
      "(29, \"I did leave #BankOfAmerica 5yrs ago I had them 20yrs Unfortunately, I picked up #Chase which I have not had any problems with but I just don't like their corrupt tactics I read and hear about Their all full of shit https://t.co/vWr5aEIQFC\")\n",
      "(30, \"'Washington STEM is grateful for our partnership with @BankofAmerica. Through their support\")\n",
      "(31, \"'What a day so far! After battling #BankofAmerica (America’s most usurous and unethical bank) &amp; being extorted for $2000 cash I should be working on reports. Instead I’m counting off how many different gods are called #Zeus. So far I’m up to 15; it’s a common name among deities https://t.co/8qor5QZ6t9'\")\n",
      "(32, \"'Holly O’Neill @hollyaoneill is a fraud. She is a customer support executive but her office does anything but serve customers. We have been emailing her office for months and not a single response. \\\\n\\\\nThat’s #BankofAmerica customer support for you. @BofA_Help'\")\n",
      "(33, \"'$BAC  FWP  Bank Of America   (15 Mar\")\n",
      "(34, \"'@TheBLKMermaids Coogler should’ve withdrawn all the millions he has with #BankofAmerica and closed his account!'\")\n",
      "(35, \"@BofA_Help I'm trying to get info about opening an account but I can't speak to a person because I don't have an account. What kind of stupidity is this in 2021 #bankofamerica\")\n",
      "(36, \"'$BAC #BANKOFAMERICA @BofA_News - Daily: The bearish trend is currently very strong for BANK OF AMERICA. As long as the price remains below the resistance at \")\n",
      "(37, \"'$BAC #BANKOFAMERICA - Daily: The bearish trend is currently very strong for BANK OF AMERICA. As long as the price remains below the resistance at \")\n",
      "(38, \"'Bank of America https://t.co/ekXKKsk2gw #BankofAmerica'\")\n",
      "(39, \"Furthermore, for anyone harmed by #BankofAmerica's negligent practices – I'm going to start listing resources that can help you. It's 2022 and old banks as we know them are about to become extinct, thanks to #FinTech.\")\n",
      "(40, \"4) You have failed to reopen my claim based on the aforementioned. \\\\n\\\\nWe'll stop here for now and see if you decide to step up, be accountable, and fix this mess. #BankofAmerica #BofA @hollyaoneill @BankofAmerica @BofA_Help\")\n",
      "(41, \"'Despite several email exchanges with your fraud reps\")\n",
      "(42, \"I have also filed a complaint with the @CFPB and with the Attorney General's office in the Commonwealth of Massachusetts @MassGov. #BankofAmerica #BofA\")\n",
      "(43, \"'I have sent several emails to your office\")\n",
      "(44, \"'This is a message to @hollyaoneill and @BankofAmerica – you are refusing to take action on my account which has been compromised by unauthorized activity. #BankofAmerica #BofA'\")\n",
      "(45, \"Banking While Black | 'Panther' Director Ryan Coogler Mistaken For Bank Robber\\\\nhttps://t.co/SqPBeg6dFV #straightfromthea #ryancoogler #bankingwhileblack #blackpanther #wakanda #bankofamerica #atlanta #youtubeblack\")\n",
      "(46, \"Banking While Black | 'Panther' Director Ryan Coogler Mistaken For Bank Robber\\\\nhttps://t.co/KlM5d9FnUf #straightfromthea #ryancoogler #bankingwhileblack #blackpanther #wakanda #bankofamerica #atlanta #youtubeblack\")\n",
      "(47, \"'Bank of America https://t.co/B7OwECBXEa #BankofAmerica'\")\n",
      "(48, \"'🚨🚨 CRYPTO NEWS ALERT! 🚨🚨\\\\n\\\\nDedicated crypto teams booming within traditional financial firms\\\\n\\\\nhttps://t.co/eRqg9VUHmF\\\\n\\\\n#Banks #Banking #Fintech #Finance #FinancialServices #BankofAmerica #MorganStanley #Crypto #BTC #ETH #DOGE'\")\n",
      "(49, \"'#hektas grafik güzel dediysek bedava bulmuş gibi alın demedikya arkadaş bu ne görgüsüzlük #bankofamerica 😂😂😂😂 ytd.. https://t.co/lDXwsCXDvy https://t.co/mdQyXkusPi'\")\n"
     ]
    }
   ],
   "source": [
    "extracted_tweets = \"snscrape --format '{content!r}'\"+ f\" --max-results {maximum_results} --since {from_date} twitter-search '{search_term} until:{end_date}' > extracted-tweets.txt\"\n",
    "os.system(extracted_tweets)\n",
    "if os.stat(\"extracted-tweets.txt\").st_size == 0:\n",
    "    print(\"No tweets found\")\n",
    "else: \n",
    "    df = pd.read_csv('extracted-tweets.txt', names=['content'])\n",
    "    for row in df['content'].iteritems():\n",
    "        print(row)"
   ]
  },
  {
   "cell_type": "code",
   "execution_count": null,
   "id": "0668bb09",
   "metadata": {},
   "outputs": [],
   "source": []
  },
  {
   "cell_type": "code",
   "execution_count": null,
   "id": "b952b95a-0540-4fcc-8a4b-608384471947",
   "metadata": {},
   "outputs": [],
   "source": []
  },
  {
   "cell_type": "code",
   "execution_count": null,
   "id": "17b0d52b-ff04-4c72-b179-4be260be22fb",
   "metadata": {},
   "outputs": [],
   "source": []
  }
 ],
 "metadata": {
  "kernelspec": {
   "display_name": "Python 3 (ipykernel)",
   "language": "python",
   "name": "python3"
  },
  "language_info": {
   "codemirror_mode": {
    "name": "ipython",
    "version": 3
   },
   "file_extension": ".py",
   "mimetype": "text/x-python",
   "name": "python",
   "nbconvert_exporter": "python",
   "pygments_lexer": "ipython3",
   "version": "3.9.7"
  }
 },
 "nbformat": 4,
 "nbformat_minor": 5
}
